{
 "cells": [
  {
   "cell_type": "code",
   "execution_count": 1,
   "metadata": {
    "collapsed": true
   },
   "outputs": [],
   "source": [
    "# Cleaning and creation of census 2010 data for the state of Florida\n",
    "import pandas as pd"
   ]
  },
  {
   "cell_type": "code",
   "execution_count": 2,
   "metadata": {
    "collapsed": false
   },
   "outputs": [],
   "source": [
    "# Import the population demographic information\n",
    "censusDemo = pd.read_csv('FloridaCensus2010/CC-EST2015-ALLDATA-12.csv', header=0)"
   ]
  },
  {
   "cell_type": "code",
   "execution_count": 3,
   "metadata": {
    "collapsed": false
   },
   "outputs": [],
   "source": [
    "# Filter by total census population \n",
    "censusDemo = censusDemo[(censusDemo.YEAR == 1) & (censusDemo.AGEGRP == 0)]"
   ]
  },
  {
   "cell_type": "code",
   "execution_count": 4,
   "metadata": {
    "collapsed": true
   },
   "outputs": [],
   "source": [
    "# Reindex the censusDemo dataframe\n",
    "censusDemo.reset_index(drop=True, inplace=True)"
   ]
  },
  {
   "cell_type": "code",
   "execution_count": 5,
   "metadata": {
    "collapsed": false
   },
   "outputs": [],
   "source": [
    "# Drop the unnecessary columns\n",
    "censusDemo.drop(censusDemo.columns[58:80], axis=1, inplace=True)\n",
    "censusDemo.drop(censusDemo.columns[34:56], axis=1, inplace=True)\n",
    "censusDemo.drop(censusDemo.columns[22:32], axis=1, inplace=True)\n",
    "censusDemo.drop(censusDemo.columns[[0,1,3,5,6]], axis=1, inplace=True)"
   ]
  },
  {
   "cell_type": "code",
   "execution_count": 11,
   "metadata": {
    "collapsed": true
   },
   "outputs": [],
   "source": [
    "# Import another population demographic file\n",
    "censusDemo2 = pd.read_excel('FloridaCensus2010/FL_Census2010_STCOPLCT_BasicRace.xls', sheetname=1, header=1)"
   ]
  },
  {
   "cell_type": "code",
   "execution_count": 12,
   "metadata": {
    "collapsed": false
   },
   "outputs": [],
   "source": [
    "# Filter by SUMLEV 50 which contains county level demographic information\n",
    "censusDemo2 = censusDemo2[censusDemo2['SUMLEV']==140]"
   ]
  },
  {
   "cell_type": "code",
   "execution_count": 14,
   "metadata": {
    "collapsed": true
   },
   "outputs": [],
   "source": [
    "# Remove columns that are completely blank\n",
    "censusDemo2 = censusDemo2.dropna(axis=1, how='all')"
   ]
  },
  {
   "cell_type": "code",
   "execution_count": 7,
   "metadata": {
    "collapsed": true
   },
   "outputs": [],
   "source": [
    "# Reindex the censusDemo2 dataframe\n",
    "censusDemo2.reset_index(drop=True, inplace=True)"
   ]
  },
  {
   "cell_type": "code",
   "execution_count": 16,
   "metadata": {
    "collapsed": false
   },
   "outputs": [],
   "source": [
    "# Drop the unnecessary columns\n",
    "censusDemo2.drop(censusDemo2.columns[[0,1,2,4]], axis=1, inplace=True)"
   ]
  },
  {
   "cell_type": "code",
   "execution_count": 21,
   "metadata": {
    "collapsed": false
   },
   "outputs": [],
   "source": [
    "# Rename column headers\n",
    "map_Demo2 = {'TRACT':'TRACT','P0020001':'TOT_POP','P0020002':'TOT_H','P0020005':'TOT_WA','P0020006':'TOT_BA','P0020007':'TOT_IA',\n",
    "            'P0020008':'TOT_AA','P0020009':'TOT_NA','P0020010':'TOT_OTHER','P0020011':'TOT_TOM','P0040001':'TOT_18+',\n",
    "            'P0040002':'TOT_H_18+','P0040005':'TOT_WA_18+','P0040006':'TOT_BA_18+','P0040007':'TOT_IA_18+','P0040008':'TOT_AA_18+',\n",
    "            'P0040009':'TOT_NA_18+','P0040010':'TOT_OTHER_18+','P0040011':'TOT_TOM_18+','H0010001':'TOT_HOUS_UNITS',\n",
    "            'H0010002':'OCC_HOUS_UNITS','H0010003':'VAC_HOUS_UNITS'}\n",
    "censusDemo2 = censusDemo2.rename(index=str, columns=map_Demo2)"
   ]
  },
  {
   "cell_type": "code",
   "execution_count": 26,
   "metadata": {
    "collapsed": false
   },
   "outputs": [
    {
     "data": {
      "text/plain": [
       "count      4245.000000\n",
       "mean      85556.589870\n",
       "std      228776.728189\n",
       "min         100.000000\n",
       "25%        6005.000000\n",
       "50%       14336.000000\n",
       "75%       40102.000000\n",
       "max      990200.000000\n",
       "Name: TRACT, dtype: float64"
      ]
     },
     "execution_count": 26,
     "metadata": {},
     "output_type": "execute_result"
    }
   ],
   "source": [
    "censusDemo2.TRACT.describe()"
   ]
  },
  {
   "cell_type": "code",
   "execution_count": 12,
   "metadata": {
    "collapsed": false
   },
   "outputs": [],
   "source": [
    "# Merge demographic dataframes together\n",
    "census = censusDemo.merge(censusDemo2, left_on='COUNTY', right_on='COUNTY', how='outer')"
   ]
  },
  {
   "cell_type": "code",
   "execution_count": 13,
   "metadata": {
    "collapsed": true
   },
   "outputs": [],
   "source": [
    "# Load in the median household income and other addtional data for 2010 census\n",
    "censusExtra = pd.read_csv('FloridaCensus2010/FL_census_extra.csv', header=0)"
   ]
  },
  {
   "cell_type": "code",
   "execution_count": 14,
   "metadata": {
    "collapsed": false,
    "scrolled": true
   },
   "outputs": [],
   "source": [
    "# Drop the unnecessary column\n",
    "censusExtra.drop(censusExtra.columns[[1]], axis=1, inplace=True)"
   ]
  },
  {
   "cell_type": "code",
   "execution_count": 15,
   "metadata": {
    "collapsed": false
   },
   "outputs": [],
   "source": [
    "# Merge census dataframe with extra information\n",
    "census = census.merge(censusExtra, left_on='COUNTY', right_on='County number', how='outer')"
   ]
  },
  {
   "cell_type": "code",
   "execution_count": 16,
   "metadata": {
    "collapsed": false
   },
   "outputs": [],
   "source": [
    "# Drop the unnecessary column from census dataframe\n",
    "census.drop(census[['County number']], axis=1, inplace=True)"
   ]
  },
  {
   "cell_type": "code",
   "execution_count": 17,
   "metadata": {
    "collapsed": false
   },
   "outputs": [],
   "source": [
    "# Create variables to ease the feature creation process\n",
    "totPop = census.TOT_POP.sum()\n",
    "totPop18 = census['TOT_18+'].sum()\n",
    "totM = census.TOT_MALE.sum()\n",
    "totF = census.TOT_FEMALE.sum()\n",
    "totHous = census.TOT_HOUS_UNITS.sum()\n",
    "Other = census['TOT_IA'] + census['TOT_NA'] + census['TOT_OTHER'] + census['TOT_TOM']\n",
    "Other18 = census['TOT_IA_18+'] + census['TOT_NA_18+'] + census['TOT_OTHER_18+'] + census['TOT_TOM_18+']"
   ]
  },
  {
   "cell_type": "code",
   "execution_count": 18,
   "metadata": {
    "collapsed": false
   },
   "outputs": [],
   "source": [
    "# Create additional features by total population of a predictor in the state of Florida:\n",
    "\n",
    "# Population of a county as percent of total population\n",
    "census['Pop as % of total Pop'] = census.TOT_POP.apply(lambda row: row/totPop*100)\n",
    "\n",
    "# Male population of a county as a percentage of total population\n",
    "census['M Pop as % of total Pop'] = census.TOT_MALE.apply(lambda row: row/totPop*100)\n",
    "\n",
    "# Male population of a county as a percentage of total male population\n",
    "census['M Pop as % of total M Pop'] = census.TOT_MALE.apply(lambda row: row/totM*100)\n",
    "\n",
    "# Female population of a county as a percentage of total population\n",
    "census['F Pop as % of total Pop'] = census.TOT_FEMALE.apply(lambda row: row/totPop*100)\n",
    "\n",
    "# Female population of a county as a percentage of total female population\n",
    "census['F Pop as % of total F Pop'] = census.TOT_FEMALE.apply(lambda row: row/totF*100)\n",
    "\n",
    "# Hispanic population as a percentage of total population\n",
    "census['H Pop as % of total Pop'] = census.TOT_H.apply(lambda row: row/totPop*100)\n",
    "\n",
    "# White population as a percentage of total population\n",
    "census['WA Pop as % of total Pop'] = census.TOT_WA.apply(lambda row: row/totPop*100)\n",
    "\n",
    "# Black population as a percentage of total population\n",
    "census['BA Pop as % of total Pop'] = census.TOT_BA.apply(lambda row: row/totPop*100)\n",
    "\n",
    "# Asian population as a percentage of total population\n",
    "census['AA Pop as % of total Pop'] = census.TOT_AA.apply(lambda row: row/totPop*100)\n",
    "\n",
    "# Population of other races as a percentage of total population\n",
    "census['Other Pop as % of total Pop'] = Other.apply(lambda row: row/totPop*100)\n",
    "\n",
    "# Hispanic population 18+ as a percentage of total population 18+\n",
    "census['H Pop as % of total Pop 18+'] = census['TOT_H_18+'].apply(lambda row: row/totPop18*100)\n",
    "\n",
    "# White population 18+ as a percentage of total population 18+\n",
    "census['WA Pop as % of total Pop 18+'] = census['TOT_WA_18+'].apply(lambda row: row/totPop18*100)\n",
    "\n",
    "# Black population 18+ as a percentage of total population 18+\n",
    "census['BA Pop as % of total Pop 18+'] = census['TOT_BA_18+'].apply(lambda row: row/totPop18*100)\n",
    "\n",
    "# Asian population 18+ as a percentage of total population 18+\n",
    "census['AA Pop as % of total Pop 18+'] = census['TOT_AA_18+'].apply(lambda row: row/totPop18*100)\n",
    "\n",
    "# Population of other races 18+ as a percentage of total population 18+\n",
    "census['Other Pop as % of total Pop 18+'] = Other18.apply(lambda row: row/totPop18*100)\n",
    "\n",
    "# Percentage of occupied housing units by total housing units in Florida\n",
    "census['% OCC TOTAL'] = census.OCC_HOUS_UNITS.apply(lambda row: row/totHous*100)\n"
   ]
  },
  {
   "cell_type": "code",
   "execution_count": 21,
   "metadata": {
    "collapsed": false
   },
   "outputs": [],
   "source": [
    "# Create additional features by total population of a predictor in a county:\n",
    "\n",
    "# Male population of a county as a percentage of total population in a county\n",
    "census['M Pop as % of total Pop COUNTY'] = census.TOT_MALE.div(census.TOT_POP, axis='index')*100\n",
    "\n",
    "# Female population of a county as a percentage of total population in a county\n",
    "census['F Pop as % of total Pop COUNTY'] = census.TOT_FEMALE.div(census.TOT_POP, axis='index')*100\n",
    "\n",
    "# Hispanic population as a percentage of total population in a county\n",
    "census['H Pop as % of total Pop COUNTY'] = census.TOT_H.div(census.TOT_POP, axis='index')*100\n",
    "\n",
    "# White population as a percentage of total population in a county\n",
    "census['WA Pop as % of total Pop COUNTY'] = census.TOT_WA.div(census.TOT_POP, axis='index')*100\n",
    "\n",
    "# Black population as a percentage of total population in a county\n",
    "census['BA Pop as % of total Pop COUNTY'] = census.TOT_BA.div(census.TOT_POP, axis='index')*100\n",
    "\n",
    "# Asian population as a percentage of total population in a county\n",
    "census['AA Pop as % of total Pop COUNTY'] = census.TOT_AA.div(census.TOT_POP, axis='index')*100\n",
    "\n",
    "# Population of other races as a percentage of total population in a county\n",
    "census['Other Pop as % of total Pop COUNTY'] = Other.div(census.TOT_POP, axis='index')*100\n",
    "\n",
    "# Hispanic population 18+ as a percentage of total population 18+ in a county\n",
    "census['H Pop as % of total Pop 18+ COUNTY'] = census['TOT_H_18+'].div(census['TOT_18+'], axis='index')*100\n",
    "\n",
    "# White population 18+ as a percentage of total population 18+ in a county\n",
    "census['WA Pop as % of total Pop 18+ COUNTY'] = census['TOT_WA_18+'].div(census['TOT_18+'], axis='index')*100\n",
    "\n",
    "# Black population 18+ as a percentage of total population 18+ in a county\n",
    "census['BA Pop as % of total Pop 18+ COUNTY'] = census['TOT_BA_18+'].div(census['TOT_18+'], axis='index')*100\n",
    "\n",
    "# Asian population 18+ as a percentage of total population 18+ in a county\n",
    "census['AA Pop as % of total Pop 18+ COUNTY'] = census['TOT_AA_18+'].div(census['TOT_18+'], axis='index')*100\n",
    "\n",
    "# Population of other races 18+ as a percentage of total population 18+ in a county\n",
    "census['Other Pop as % of total Pop 18+ COUNTY'] = Other18.div(census['TOT_18+'], axis='index')*100\n",
    "\n",
    "# Perncentage of occupied housing units by total housing units in a county\n",
    "census['% OCC COUNTY'] = census.OCC_HOUS_UNITS.div(census.TOT_HOUS_UNITS, axis='index')*100"
   ]
  },
  {
   "cell_type": "code",
   "execution_count": 22,
   "metadata": {
    "collapsed": true
   },
   "outputs": [],
   "source": [
    "# Write the census dataframe to CSV file\n",
    "census.to_csv('FL_census.csv')"
   ]
  }
 ],
 "metadata": {
  "anaconda-cloud": {},
  "kernelspec": {
   "display_name": "Python [default]",
   "language": "python",
   "name": "python3"
  },
  "language_info": {
   "codemirror_mode": {
    "name": "ipython",
    "version": 3
   },
   "file_extension": ".py",
   "mimetype": "text/x-python",
   "name": "python",
   "nbconvert_exporter": "python",
   "pygments_lexer": "ipython3",
   "version": "3.5.2"
  }
 },
 "nbformat": 4,
 "nbformat_minor": 1
}
