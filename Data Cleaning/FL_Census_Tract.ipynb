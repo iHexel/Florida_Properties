{
 "cells": [
  {
   "cell_type": "code",
   "execution_count": 1,
   "metadata": {
    "collapsed": true
   },
   "outputs": [],
   "source": [
    "# Cleaning and creation of census 2010 data for the state of Florida\n",
    "import pandas as pd"
   ]
  },
  {
   "cell_type": "code",
   "execution_count": 2,
   "metadata": {
    "collapsed": true
   },
   "outputs": [],
   "source": [
    "# Import the basic demographic and housing information from census \n",
    "census = pd.read_excel('FloridaCensus2010/FL_Census2010_STCOPLCT_BasicRace.xls', sheetname=1, header=1,\n",
    "                      converters={'STATE':str,'COUNTY':str,'TRACT':str})"
   ]
  },
  {
   "cell_type": "code",
   "execution_count": 3,
   "metadata": {
    "collapsed": false
   },
   "outputs": [],
   "source": [
    "# Filter by SUMLEV 50 which contains county level demographic information\n",
    "census = census[census['SUMLEV']==140]"
   ]
  },
  {
   "cell_type": "code",
   "execution_count": 4,
   "metadata": {
    "collapsed": true
   },
   "outputs": [],
   "source": [
    "# Remove columns that are completely blank\n",
    "census = census.dropna(axis=1, how='all')"
   ]
  },
  {
   "cell_type": "code",
   "execution_count": 5,
   "metadata": {
    "collapsed": true
   },
   "outputs": [],
   "source": [
    "# Reindex the dataframe\n",
    "census.reset_index(drop=True, inplace=True)"
   ]
  },
  {
   "cell_type": "code",
   "execution_count": 6,
   "metadata": {
    "collapsed": false
   },
   "outputs": [],
   "source": [
    "census['Id2'] = census['STATE'] + census['COUNTY'] + census['TRACT']"
   ]
  },
  {
   "cell_type": "code",
   "execution_count": 7,
   "metadata": {
    "collapsed": false
   },
   "outputs": [],
   "source": [
    "# Drop the unnecessary columns\n",
    "census.drop(census.columns[0:5], axis=1, inplace=True)"
   ]
  },
  {
   "cell_type": "code",
   "execution_count": 8,
   "metadata": {
    "collapsed": true
   },
   "outputs": [],
   "source": [
    "# Rename column headers\n",
    "map_census = {'Id2':'Id2','P0020001':'TOT_POP','P0020002':'TOT_H','P0020005':'TOT_WA','P0020006':'TOT_BA','P0020007':'TOT_IA',\n",
    "            'P0020008':'TOT_AA','P0020009':'TOT_NA','P0020010':'TOT_OTHER','P0020011':'TOT_TOM','P0040001':'TOT_18+',\n",
    "            'P0040002':'TOT_H_18+','P0040005':'TOT_WA_18+','P0040006':'TOT_BA_18+','P0040007':'TOT_IA_18+','P0040008':'TOT_AA_18+',\n",
    "            'P0040009':'TOT_NA_18+','P0040010':'TOT_OTHER_18+','P0040011':'TOT_TOM_18+','H0010001':'TOT_HOUS_UNITS',\n",
    "            'H0010002':'OCC_HOUS_UNITS','H0010003':'VAC_HOUS_UNITS'}\n",
    "census = census.rename(index=str, columns=map_census)"
   ]
  },
  {
   "cell_type": "code",
   "execution_count": 9,
   "metadata": {
    "collapsed": false,
    "scrolled": true
   },
   "outputs": [],
   "source": [
    "# Rearrange the columns\n",
    "cols = census.columns.tolist()\n",
    "cols = cols[-1:] + cols[:-1]\n",
    "census = census[cols]"
   ]
  },
  {
   "cell_type": "code",
   "execution_count": 10,
   "metadata": {
    "collapsed": false
   },
   "outputs": [],
   "source": [
    "# Import the demographic and housing information\n",
    "censusDem = pd.read_csv('FloridaCensus2010/DEC_10_SF1_SF1DP1_with_ann.csv', header=1, low_memory=False, converters={'Id2':str})"
   ]
  },
  {
   "cell_type": "code",
   "execution_count": 11,
   "metadata": {
    "collapsed": false
   },
   "outputs": [],
   "source": [
    "# Select the necessary columns for future analysis\n",
    "censusDem = censusDem[['Id2','Number; SEX AND AGE - Total population - Median age (years)','Percent; SEX AND AGE - Male population',\n",
    "          'Number; SEX AND AGE - Male population - Median age (years)','Percent; SEX AND AGE - Female population',\n",
    "         'Number; SEX AND AGE - Female population - Median age (years)','Number; HOUSEHOLDS BY TYPE - Total households - Average household size',\n",
    "         'Number; HOUSEHOLDS BY TYPE - Total households - Average family size [7]','Number; HOUSING OCCUPANCY - Total housing units - Homeowner vacancy rate (percent) [8]',\n",
    "         'Number; HOUSING OCCUPANCY - Total housing units - Rental vacancy rate (percent) [9]','Percent; HOUSING TENURE - Occupied housing units - Owner-occupied housing units',\n",
    "         'Number; HOUSING TENURE - Occupied housing units - Owner-occupied housing units - Average household size of owner-occupied units',\n",
    "         'Percent; HOUSING TENURE - Occupied housing units - Renter-occupied housing units','Number; HOUSING TENURE - Occupied housing units - Renter-occupied housing units - Average household size of renter-occupied units']]"
   ]
  },
  {
   "cell_type": "code",
   "execution_count": 12,
   "metadata": {
    "collapsed": false
   },
   "outputs": [],
   "source": [
    "# Import the employment information\n",
    "censusEmp = pd.read_csv('FloridaCensus2010/ACS_10_5YR_S2301_with_ann.csv', header=1, low_memory=False, converters={'Id2':str})"
   ]
  },
  {
   "cell_type": "code",
   "execution_count": 13,
   "metadata": {
    "collapsed": true
   },
   "outputs": [],
   "source": [
    "# Select the necessary columns for future analysis\n",
    "censusEmp = censusEmp[['Id2','In labor force; Estimate; Population 16 years and over','Employed; Estimate; Population 16 years and over',\n",
    "                      'Unemployment rate; Estimate; Population 16 years and over','In labor force; Estimate; RACE AND HISPANIC OR LATINO ORIGIN - One race - White',\n",
    "                      'Employed; Estimate; RACE AND HISPANIC OR LATINO ORIGIN - One race - White','Unemployment rate; Estimate; RACE AND HISPANIC OR LATINO ORIGIN - One race - White',\n",
    "                      'In labor force; Estimate; RACE AND HISPANIC OR LATINO ORIGIN - One race - Black or African American','Employed; Estimate; RACE AND HISPANIC OR LATINO ORIGIN - One race - Black or African American',\n",
    "                      'Unemployment rate; Estimate; RACE AND HISPANIC OR LATINO ORIGIN - One race - Black or African American','In labor force; Estimate; RACE AND HISPANIC OR LATINO ORIGIN - One race - American Indian and Alaska Native',\n",
    "                      'Employed; Estimate; RACE AND HISPANIC OR LATINO ORIGIN - One race - American Indian and Alaska Native','Unemployment rate; Estimate; RACE AND HISPANIC OR LATINO ORIGIN - One race - American Indian and Alaska Native',\n",
    "                      'In labor force; Estimate; RACE AND HISPANIC OR LATINO ORIGIN - One race - Asian','Employed; Estimate; RACE AND HISPANIC OR LATINO ORIGIN - One race - Asian',\n",
    "                      'Unemployment rate; Estimate; RACE AND HISPANIC OR LATINO ORIGIN - One race - Asian','In labor force; Estimate; RACE AND HISPANIC OR LATINO ORIGIN - One race - Native Hawaiian and Other Pacific Islander',\n",
    "                      'Employed; Estimate; RACE AND HISPANIC OR LATINO ORIGIN - One race - Native Hawaiian and Other Pacific Islander','Unemployment rate; Estimate; RACE AND HISPANIC OR LATINO ORIGIN - One race - Native Hawaiian and Other Pacific Islander',\n",
    "                      'In labor force; Estimate; RACE AND HISPANIC OR LATINO ORIGIN - One race - Some other race','Employed; Estimate; RACE AND HISPANIC OR LATINO ORIGIN - One race - Some other race',\n",
    "                      'Unemployment rate; Estimate; RACE AND HISPANIC OR LATINO ORIGIN - One race - Some other race','In labor force; Estimate; RACE AND HISPANIC OR LATINO ORIGIN - Two or more races',\n",
    "                       'Employed; Estimate; RACE AND HISPANIC OR LATINO ORIGIN - Two or more races','Unemployment rate; Estimate; RACE AND HISPANIC OR LATINO ORIGIN - Two or more races',\n",
    "                       'Total; Estimate; Hispanic or Latino origin (of any race)','In labor force; Estimate; Hispanic or Latino origin (of any race)','Employed; Estimate; Hispanic or Latino origin (of any race)',\n",
    "                      'Unemployment rate; Estimate; Hispanic or Latino origin (of any race)']]"
   ]
  },
  {
   "cell_type": "code",
   "execution_count": 14,
   "metadata": {
    "collapsed": true
   },
   "outputs": [],
   "source": [
    "# Import the median income information\n",
    "censusMhi = pd.read_csv('FloridaCensus2010/ACS_10_5YR_S1903_with_ann.csv', header=1, low_memory=False, converters={'Id2':str})"
   ]
  },
  {
   "cell_type": "code",
   "execution_count": 15,
   "metadata": {
    "collapsed": true
   },
   "outputs": [],
   "source": [
    "censusMhi = censusMhi[['Id2','Total; Estimate; Households','Median income (dollars); Estimate; Households','Total; Estimate; One race-- - White',\n",
    "                       'Median income (dollars); Estimate; One race-- - White','Total; Estimate; One race-- - Black or African American',\n",
    "                      'Median income (dollars); Estimate; One race-- - Black or African American','Total; Estimate; One race-- - American Indian and Alaska Native',\n",
    "                      'Median income (dollars); Estimate; One race-- - American Indian and Alaska Native','Total; Estimate; One race-- - Asian',\n",
    "                      'Median income (dollars); Estimate; One race-- - Asian','Total; Estimate; One race-- - Native Hawaiian and Other Pacific Islander',\n",
    "                      'Median income (dollars); Estimate; One race-- - Native Hawaiian and Other Pacific Islander','Total; Estimate; One race-- - Some other race',\n",
    "                      'Median income (dollars); Estimate; One race-- - Some other race','Total; Estimate; Two or more races','Median income (dollars); Estimate; Two or more races',\n",
    "                      'Total; Estimate; Hispanic or Latino origin (of any race)','Median income (dollars); Estimate; Hispanic or Latino origin (of any race)']]"
   ]
  },
  {
   "cell_type": "code",
   "execution_count": 16,
   "metadata": {
    "collapsed": true
   },
   "outputs": [],
   "source": [
    "# Import the family status information\n",
    "censusFam = pd.read_csv('FloridaCensus2010/ACS_10_5YR_S1702_with_ann.csv', header=1, low_memory=False, converters={'Id2':str})"
   ]
  },
  {
   "cell_type": "code",
   "execution_count": 17,
   "metadata": {
    "collapsed": false
   },
   "outputs": [],
   "source": [
    "censusFam = censusFam[['Id2','All families  - Total; Estimate; Families','All families  - Percent below poverty level; Estimate; Families',\n",
    "                      'Married-couple families  - Total; Estimate; Families','Married-couple families  - Percent below poverty level; Estimate; Families',\n",
    "                      'Female householder, no husband present  - Total; Estimate; Families','Female householder, no husband present  - Percent below poverty level; Estimate; Families']]"
   ]
  },
  {
   "cell_type": "code",
   "execution_count": 18,
   "metadata": {
    "collapsed": true
   },
   "outputs": [],
   "source": [
    "# Import the education level information\n",
    "censusEdu = pd.read_csv('FloridaCensus2010/ACS_10_5YR_S1501_with_ann.csv', header=1, low_memory=False, converters={'Id2':str})"
   ]
  },
  {
   "cell_type": "code",
   "execution_count": 19,
   "metadata": {
    "collapsed": false
   },
   "outputs": [],
   "source": [
    "censusEdu = censusEdu[[\"Id2\",\"Total; Estimate; POVERTY RATE FOR THE POPULATION 25 YEARS AND OVER FOR WHOM POVERTY STATUS IS DETERMINED BY EDUCATIONAL ATTAINMENT LEVEL - Less than high school graduate\",\n",
    "                       \"Total; Estimate; POVERTY RATE FOR THE POPULATION 25 YEARS AND OVER FOR WHOM POVERTY STATUS IS DETERMINED BY EDUCATIONAL ATTAINMENT LEVEL - High school graduate (includes equivalency)\",\n",
    "                       \"Total; Estimate; POVERTY RATE FOR THE POPULATION 25 YEARS AND OVER FOR WHOM POVERTY STATUS IS DETERMINED BY EDUCATIONAL ATTAINMENT LEVEL - Some college or associate's degree\",\n",
    "                       \"Total; Estimate; POVERTY RATE FOR THE POPULATION 25 YEARS AND OVER FOR WHOM POVERTY STATUS IS DETERMINED BY EDUCATIONAL ATTAINMENT LEVEL - Bachelor's degree or higher\"]]"
   ]
  },
  {
   "cell_type": "code",
   "execution_count": 23,
   "metadata": {
    "collapsed": false
   },
   "outputs": [],
   "source": [
    "# Merge census datasets\n",
    "test = pd.merge(census, censusDem, how='outer', left_on='Id2', right_on='Id2')\n",
    "test = pd.merge(test, censusEmp, how='outer', left_on='Id2', right_on='Id2')\n",
    "test = pd.merge(test, censusMhi, how='outer', left_on='Id2', right_on='Id2')\n",
    "test = pd.merge(test, censusEdu, how='outer', left_on='Id2', right_on='Id2')\n",
    "census = test"
   ]
  },
  {
   "cell_type": "code",
   "execution_count": 26,
   "metadata": {
    "collapsed": false
   },
   "outputs": [],
   "source": [
    "# Write the census dataframe to CSV file\n",
    "census.to_csv('FL_census.csv')"
   ]
  }
 ],
 "metadata": {
  "anaconda-cloud": {},
  "kernelspec": {
   "display_name": "Python [default]",
   "language": "python",
   "name": "python3"
  },
  "language_info": {
   "codemirror_mode": {
    "name": "ipython",
    "version": 3
   },
   "file_extension": ".py",
   "mimetype": "text/x-python",
   "name": "python",
   "nbconvert_exporter": "python",
   "pygments_lexer": "ipython3",
   "version": "3.5.2"
  }
 },
 "nbformat": 4,
 "nbformat_minor": 1
}
