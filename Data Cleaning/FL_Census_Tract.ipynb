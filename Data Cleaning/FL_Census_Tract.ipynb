{
 "cells": [
  {
   "cell_type": "code",
   "execution_count": 1,
   "metadata": {
    "collapsed": true
   },
   "outputs": [],
   "source": [
    "# Cleaning and creation of census 2010 data for the state of Florida\n",
    "import pandas as pd"
   ]
  },
  {
   "cell_type": "code",
   "execution_count": 2,
   "metadata": {
    "collapsed": true
   },
   "outputs": [],
   "source": [
    "# Import the basic demographic and housing information from census \n",
    "census = pd.read_excel('FloridaCensus2010/FL_Census2010_STCOPLCT_BasicRace.xls', sheetname=1, header=1,\n",
    "                      converters={'STATE':str,'COUNTY':str,'TRACT':str})"
   ]
  },
  {
   "cell_type": "code",
   "execution_count": 3,
   "metadata": {
    "collapsed": false
   },
   "outputs": [],
   "source": [
    "# Filter by SUMLEV 50 which contains county level demographic information\n",
    "census = census[census['SUMLEV']==140]"
   ]
  },
  {
   "cell_type": "code",
   "execution_count": 4,
   "metadata": {
    "collapsed": true
   },
   "outputs": [],
   "source": [
    "# Remove columns that are completely blank\n",
    "census = census.dropna(axis=1, how='all')"
   ]
  },
  {
   "cell_type": "code",
   "execution_count": 5,
   "metadata": {
    "collapsed": true
   },
   "outputs": [],
   "source": [
    "# Reindex the dataframe\n",
    "census.reset_index(drop=True, inplace=True)"
   ]
  },
  {
   "cell_type": "code",
   "execution_count": 6,
   "metadata": {
    "collapsed": false
   },
   "outputs": [],
   "source": [
    "# Create census tract number\n",
    "census['Id2'] = census['STATE'] + census['COUNTY'] + census['TRACT']"
   ]
  },
  {
   "cell_type": "code",
   "execution_count": 7,
   "metadata": {
    "collapsed": false
   },
   "outputs": [],
   "source": [
    "# Drop the unnecessary columns\n",
    "census.drop(census.columns[0:5], axis=1, inplace=True)"
   ]
  },
  {
   "cell_type": "code",
   "execution_count": 8,
   "metadata": {
    "collapsed": true
   },
   "outputs": [],
   "source": [
    "# Rename column headers\n",
    "map_census = {'Id2':'Id2','P0020001':'TOT_POP','P0020002':'TOT_H','P0020005':'TOT_WA','P0020006':'TOT_BA','P0020007':'TOT_IA',\n",
    "            'P0020008':'TOT_AA','P0020009':'TOT_NA','P0020010':'TOT_OTHER','P0020011':'TOT_TOM','P0040001':'TOT_18+',\n",
    "            'P0040002':'TOT_H_18+','P0040005':'TOT_WA_18+','P0040006':'TOT_BA_18+','P0040007':'TOT_IA_18+','P0040008':'TOT_AA_18+',\n",
    "            'P0040009':'TOT_NA_18+','P0040010':'TOT_OTHER_18+','P0040011':'TOT_TOM_18+','H0010001':'TOT_HOUSE_UNITS',\n",
    "            'H0010002':'OCC_HOUSE_UNITS','H0010003':'VAC_HOUSE_UNITS'}\n",
    "census = census.rename(index=str, columns=map_census)"
   ]
  },
  {
   "cell_type": "code",
   "execution_count": 9,
   "metadata": {
    "collapsed": false,
    "scrolled": true
   },
   "outputs": [],
   "source": [
    "# Rearrange the columns\n",
    "cols = census.columns.tolist()\n",
    "cols = cols[-1:] + cols[:-1]\n",
    "census = census[cols]"
   ]
  },
  {
   "cell_type": "code",
   "execution_count": 10,
   "metadata": {
    "collapsed": false
   },
   "outputs": [],
   "source": [
    "# Import the demographic and housing information\n",
    "censusDem = pd.read_csv('FloridaCensus2010/DEC_10_SF1_SF1DP1_with_ann.csv', header=1, low_memory=False, converters={'Id2':str})"
   ]
  },
  {
   "cell_type": "code",
   "execution_count": 11,
   "metadata": {
    "collapsed": false
   },
   "outputs": [],
   "source": [
    "# Select the necessary columns for future analysis\n",
    "censusDem = censusDem[['Id2','Number; SEX AND AGE - Total population - Median age (years)','Percent; SEX AND AGE - Male population',\n",
    "          'Number; SEX AND AGE - Male population - Median age (years)','Percent; SEX AND AGE - Female population',\n",
    "         'Number; SEX AND AGE - Female population - Median age (years)','Number; HOUSEHOLDS BY TYPE - Total households - Average household size',\n",
    "         'Number; HOUSEHOLDS BY TYPE - Total households - Average family size [7]','Number; HOUSING OCCUPANCY - Total housing units - Homeowner vacancy rate (percent) [8]',\n",
    "         'Number; HOUSING OCCUPANCY - Total housing units - Rental vacancy rate (percent) [9]','Percent; HOUSING TENURE - Occupied housing units - Owner-occupied housing units',\n",
    "         'Number; HOUSING TENURE - Occupied housing units - Owner-occupied housing units - Average household size of owner-occupied units',\n",
    "         'Percent; HOUSING TENURE - Occupied housing units - Renter-occupied housing units','Number; HOUSING TENURE - Occupied housing units - Renter-occupied housing units - Average household size of renter-occupied units']]"
   ]
  },
  {
   "cell_type": "code",
   "execution_count": 12,
   "metadata": {
    "collapsed": false
   },
   "outputs": [],
   "source": [
    "# Import the employment information\n",
    "censusEmp = pd.read_csv('FloridaCensus2010/ACS_10_5YR_S2301_with_ann.csv', header=1, low_memory=False, converters={'Id2':str})"
   ]
  },
  {
   "cell_type": "code",
   "execution_count": 13,
   "metadata": {
    "collapsed": true
   },
   "outputs": [],
   "source": [
    "# Select the necessary columns for future analysis\n",
    "censusEmp = censusEmp[['Id2','In labor force; Estimate; Population 16 years and over','Employed; Estimate; Population 16 years and over',\n",
    "                      'Unemployment rate; Estimate; Population 16 years and over']]"
   ]
  },
  {
   "cell_type": "code",
   "execution_count": 14,
   "metadata": {
    "collapsed": true
   },
   "outputs": [],
   "source": [
    "# Import the median income information\n",
    "censusMhi = pd.read_csv('FloridaCensus2010/ACS_10_5YR_S1903_with_ann.csv', header=1, low_memory=False, converters={'Id2':str})"
   ]
  },
  {
   "cell_type": "code",
   "execution_count": 15,
   "metadata": {
    "collapsed": true
   },
   "outputs": [],
   "source": [
    "censusMhi = censusMhi[['Id2','Median income (dollars); Estimate; Households',\n",
    "                       'Median income (dollars); Estimate; One race-- - White',\n",
    "                       'Median income (dollars); Estimate; One race-- - Black or African American',\n",
    "                       'Median income (dollars); Estimate; One race-- - American Indian and Alaska Native',\n",
    "                       'Median income (dollars); Estimate; One race-- - Asian',\n",
    "                       'Median income (dollars); Estimate; One race-- - Native Hawaiian and Other Pacific Islander',\n",
    "                       'Median income (dollars); Estimate; One race-- - Some other race',\n",
    "                       'Median income (dollars); Estimate; Two or more races',\n",
    "                       'Median income (dollars); Estimate; Hispanic or Latino origin (of any race)']]"
   ]
  },
  {
   "cell_type": "code",
   "execution_count": 16,
   "metadata": {
    "collapsed": true
   },
   "outputs": [],
   "source": [
    "# Import the family status information\n",
    "censusFam = pd.read_csv('FloridaCensus2010/ACS_10_5YR_S1702_with_ann.csv', header=1, low_memory=False, converters={'Id2':str})"
   ]
  },
  {
   "cell_type": "code",
   "execution_count": 17,
   "metadata": {
    "collapsed": false
   },
   "outputs": [],
   "source": [
    "censusFam = censusFam[['Id2','All families  - Total; Estimate; Families','All families  - Percent below poverty level; Estimate; Families',\n",
    "                      'Married-couple families  - Total; Estimate; Families','Married-couple families  - Percent below poverty level; Estimate; Families',\n",
    "                      'Female householder, no husband present  - Total; Estimate; Families','Female householder, no husband present  - Percent below poverty level; Estimate; Families']]"
   ]
  },
  {
   "cell_type": "code",
   "execution_count": 18,
   "metadata": {
    "collapsed": true
   },
   "outputs": [],
   "source": [
    "# Import the education level information\n",
    "censusEdu = pd.read_csv('FloridaCensus2010/ACS_10_5YR_S1501_with_ann.csv', header=1, low_memory=False, converters={'Id2':str})"
   ]
  },
  {
   "cell_type": "code",
   "execution_count": 19,
   "metadata": {
    "collapsed": false
   },
   "outputs": [],
   "source": [
    "censusEdu = censusEdu[[\"Id2\",\"Total; Estimate; POVERTY RATE FOR THE POPULATION 25 YEARS AND OVER FOR WHOM POVERTY STATUS IS DETERMINED BY EDUCATIONAL ATTAINMENT LEVEL - Less than high school graduate\",\n",
    "                       \"Total; Estimate; POVERTY RATE FOR THE POPULATION 25 YEARS AND OVER FOR WHOM POVERTY STATUS IS DETERMINED BY EDUCATIONAL ATTAINMENT LEVEL - High school graduate (includes equivalency)\",\n",
    "                       \"Total; Estimate; POVERTY RATE FOR THE POPULATION 25 YEARS AND OVER FOR WHOM POVERTY STATUS IS DETERMINED BY EDUCATIONAL ATTAINMENT LEVEL - Some college or associate's degree\",\n",
    "                       \"Total; Estimate; POVERTY RATE FOR THE POPULATION 25 YEARS AND OVER FOR WHOM POVERTY STATUS IS DETERMINED BY EDUCATIONAL ATTAINMENT LEVEL - Bachelor's degree or higher\"]]"
   ]
  },
  {
   "cell_type": "code",
   "execution_count": 20,
   "metadata": {
    "collapsed": false
   },
   "outputs": [],
   "source": [
    "# Merge census datasets\n",
    "census = pd.merge(census, censusDem, how='outer', left_on='Id2', right_on='Id2')\n",
    "census = pd.merge(census, censusEmp, how='outer', left_on='Id2', right_on='Id2')\n",
    "census = pd.merge(census, censusMhi, how='outer', left_on='Id2', right_on='Id2')\n",
    "census = pd.merge(census, censusFam, how='outer', left_on='Id2', right_on='Id2')\n",
    "census = pd.merge(census, censusEdu, how='outer', left_on='Id2', right_on='Id2')"
   ]
  },
  {
   "cell_type": "code",
   "execution_count": 21,
   "metadata": {
    "collapsed": true
   },
   "outputs": [],
   "source": [
    "# Convert all columns to numeric values and any string to NaN\n",
    "census = census.apply(pd.to_numeric, errors='coerce')"
   ]
  },
  {
   "cell_type": "code",
   "execution_count": 22,
   "metadata": {
    "collapsed": false
   },
   "outputs": [],
   "source": [
    "# Convert all Nan to 0\n",
    "census = census.fillna(value=0)"
   ]
  },
  {
   "cell_type": "code",
   "execution_count": 23,
   "metadata": {
    "collapsed": false,
    "scrolled": true
   },
   "outputs": [],
   "source": [
    "# Weighted median income for races not belonging to one of the major groups\n",
    "MHI_WGT_DENOM = (census['Median income (dollars); Estimate; One race-- - American Indian and Alaska Native'] + \n",
    "                 census['Median income (dollars); Estimate; One race-- - Native Hawaiian and Other Pacific Islander'] + \n",
    "                 census['Median income (dollars); Estimate; One race-- - Some other race'] + \n",
    "                 census['Median income (dollars); Estimate; Two or more races'])\n",
    "MHI_WGT_IA = census['Median income (dollars); Estimate; One race-- - American Indian and Alaska Native'] / MHI_WGT_DENOM\n",
    "MHI_WGT_IA = MHI_WGT_IA.fillna(value=0)\n",
    "MHI_WGT_NA = census['Median income (dollars); Estimate; One race-- - Native Hawaiian and Other Pacific Islander'] / MHI_WGT_DENOM\n",
    "MHI_WGT_NA = MHI_WGT_NA.fillna(value=0)\n",
    "MHI_WGT_OTHER = census['Median income (dollars); Estimate; One race-- - Some other race'] / MHI_WGT_DENOM\n",
    "MHI_WGT_OTHER = MHI_WGT_OTHER.fillna(value=0)\n",
    "MHI_WGT_TOM = census['Median income (dollars); Estimate; Two or more races'] / MHI_WGT_DENOM\n",
    "MHI_WGT_TOM = MHI_WGT_TOM.fillna(value=0)\n",
    "MHI_OTHER = (census['Median income (dollars); Estimate; One race-- - American Indian and Alaska Native'] * MHI_WGT_IA + \n",
    "             census['Median income (dollars); Estimate; One race-- - Native Hawaiian and Other Pacific Islander'] * MHI_WGT_NA + \n",
    "             census['Median income (dollars); Estimate; One race-- - Some other race'] * MHI_WGT_OTHER + \n",
    "             census['Median income (dollars); Estimate; Two or more races'] * MHI_WGT_TOM)\n",
    "MHI_OTHER = MHI_OTHER.fillna(value=0)\n",
    "census['MHI_OTHER'] = pd.Series(MHI_OTHER, index=census.index)"
   ]
  },
  {
   "cell_type": "code",
   "execution_count": 24,
   "metadata": {
    "collapsed": false,
    "scrolled": true
   },
   "outputs": [],
   "source": [
    "# Rename columns of use\n",
    "map_census2 = {'Id2':'CENSUS_TRACT','Number; SEX AND AGE - Total population - Median age (years)':'TOT_MED_AGE',\n",
    "               'Percent; SEX AND AGE - Male population':'PCT_M','Percent; SEX AND AGE - Female population':'PCT_F',\n",
    "               'Number; SEX AND AGE - Male population - Median age (years)':'M_MED_AGE',\n",
    "               'Number; SEX AND AGE - Female population - Median age (years)':'F_MED_AGE',\n",
    "               'Number; HOUSEHOLDS BY TYPE - Total households - Average household size':'AVG_HOUSE_SIZE',\n",
    "               'Number; HOUSEHOLDS BY TYPE - Total households - Average family size [7]':'AVG_FAM_SIZE',\n",
    "               'Number; HOUSING OCCUPANCY - Total housing units - Homeowner vacancy rate (percent) [8]':'HOME_VAC_RATE',\n",
    "               'Number; HOUSING OCCUPANCY - Total housing units - Rental vacancy rate (percent) [9]':'RENT_VAC_RATE',\n",
    "               'Percent; HOUSING TENURE - Occupied housing units - Owner-occupied housing units':'PCT_OCC_OWNER',\n",
    "               'Percent; HOUSING TENURE - Occupied housing units - Renter-occupied housing units':'PCT_OCC_RENTER',\n",
    "               'Number; HOUSING TENURE - Occupied housing units - Owner-occupied housing units - Average household size of owner-occupied units':'AVG_H_SIZE_OWNER',\n",
    "               'Number; HOUSING TENURE - Occupied housing units - Renter-occupied housing units - Average household size of renter-occupied units':'AVG_H_SIZE_RENTER',\n",
    "               'In labor force; Estimate; Population 16 years and over':'PCT_LABOR',\n",
    "               'Employed; Estimate; Population 16 years and over':'PCT_EMP',\n",
    "               'Unemployment rate; Estimate; Population 16 years and over':'PCT_UNEMP',\n",
    "               'Median income (dollars); Estimate; Households':'MHI_TOT',\n",
    "               'Median income (dollars); Estimate; One race-- - White':'MHI_WA',\n",
    "               'Median income (dollars); Estimate; One race-- - Black or African American':'MHI_BA',\n",
    "               'Median income (dollars); Estimate; One race-- - Asian':'MHI_AA',\n",
    "               'Median income (dollars); Estimate; Hispanic or Latino origin (of any race)':'MHI_H',\n",
    "               'All families  - Total; Estimate; Families':'TOT_FAM',\n",
    "               'All families  - Percent below poverty level; Estimate; Families':'PCT_FAM_POV',\n",
    "               'Married-couple families  - Total; Estimate; Families':'TOT_FAM_MARRIED',\n",
    "               'Married-couple families  - Percent below poverty level; Estimate; Families':'PCT_FAM_MARRIED_POV',\n",
    "               'Female householder, no husband present  - Total; Estimate; Families':'TOT_FAM_F_ONLY',\n",
    "               'Female householder, no husband present  - Percent below poverty level; Estimate; Families':'PCT_FAM_F_ONLY_POV',\n",
    "               'Total; Estimate; POVERTY RATE FOR THE POPULATION 25 YEARS AND OVER FOR WHOM POVERTY STATUS IS DETERMINED BY EDUCATIONAL ATTAINMENT LEVEL - Less than high school graduate':'POV_RATE_NO_GED',\n",
    "               'Total; Estimate; POVERTY RATE FOR THE POPULATION 25 YEARS AND OVER FOR WHOM POVERTY STATUS IS DETERMINED BY EDUCATIONAL ATTAINMENT LEVEL - High school graduate (includes equivalency)':'POV_RATE_GED',\n",
    "               \"Total; Estimate; POVERTY RATE FOR THE POPULATION 25 YEARS AND OVER FOR WHOM POVERTY STATUS IS DETERMINED BY EDUCATIONAL ATTAINMENT LEVEL - Some college or associate's degree\":'POV_RATE_SOME_COL',\n",
    "               \"Total; Estimate; POVERTY RATE FOR THE POPULATION 25 YEARS AND OVER FOR WHOM POVERTY STATUS IS DETERMINED BY EDUCATIONAL ATTAINMENT LEVEL - Bachelor's degree or higher\":'POV_RATE_BACH_PLUS'\n",
    "               }\n",
    "census = census.rename(index=str, columns=map_census2)"
   ]
  },
  {
   "cell_type": "code",
   "execution_count": 25,
   "metadata": {
    "collapsed": true
   },
   "outputs": [],
   "source": [
    "# Create variables to ease the feature creation process\n",
    "totPop = census.TOT_POP.sum()\n",
    "totPop18 = census['TOT_18+'].sum()\n",
    "totHous = census.TOT_HOUSE_UNITS.sum()\n",
    "Other = census['TOT_IA'] + census['TOT_NA'] + census['TOT_OTHER'] + census['TOT_TOM']\n",
    "Other18 = census['TOT_IA_18+'] + census['TOT_NA_18+'] + census['TOT_OTHER_18+'] + census['TOT_TOM_18+']"
   ]
  },
  {
   "cell_type": "code",
   "execution_count": 26,
   "metadata": {
    "collapsed": false
   },
   "outputs": [],
   "source": [
    "# Create additional features:\n",
    "\n",
    "# Population of a census tract as percent of total population\n",
    "census['PCT_TOT_POP'] = census.TOT_POP.apply(lambda row: row/totPop)*100\n",
    "\n",
    "# Hispanic population as a percentage of total population in a census tract\n",
    "census['PCT_H'] = census.TOT_H.div(census.TOT_POP, axis='index')*100\n",
    "\n",
    "# White population as a percentage of total population in a census tract\n",
    "census['PCT_WA'] = census.TOT_WA.div(census.TOT_POP, axis='index')*100\n",
    "\n",
    "# Black population as a percentage of total population in a census tract\n",
    "census['PCT_BA'] = census.TOT_BA.div(census.TOT_POP, axis='index')*100\n",
    "\n",
    "# Asian population as a percentage of total population in a census tract\n",
    "census['PCT_AA'] = census.TOT_AA.div(census.TOT_POP, axis='index')*100\n",
    "\n",
    "# Other demographic as a percentage of total population in a census tract\n",
    "census['PCT_OTHER'] = Other.div(census.TOT_POP, axis='index')*100\n",
    "\n",
    "# Population of a census tract as percent of total population 18+\n",
    "census['PCT_TOT_POP_18'] = census['TOT_18+'].apply(lambda row: row/totPop18)*100\n",
    "\n",
    "# Hispanic population 18+ as a percentage of total population 18+ in a census tract\n",
    "census['PCT_H_18'] = census['TOT_H_18+'].div(census['TOT_18+'], axis='index')*100\n",
    "\n",
    "# White population 18+ as a percentage of total population 18+ in a census tract\n",
    "census['PCT_WA_18'] = census['TOT_WA_18+'].div(census['TOT_18+'], axis='index')*100\n",
    "\n",
    "# Black population 18+ as a percentage of total population 18+ in a census tract\n",
    "census['PCT_BA_18'] = census['TOT_BA_18+'].div(census['TOT_18+'], axis='index')*100\n",
    "\n",
    "# Asian population 18+ as a percentage of total population 18+ in a census tract\n",
    "census['PCT_AA_18'] = census['TOT_AA_18+'].div(census['TOT_18+'], axis='index')*100\n",
    "\n",
    "# Population of other races 18+ as a percentage of total population 18+ in a census tract\n",
    "census['PCT_OTHER_18'] = Other18.div(census['TOT_18+'], axis='index')*100\n",
    "\n",
    "# Perncentage of occupied housing units by total housing units in a census tract\n",
    "census['PCT_OCC_HOUSE'] = census.OCC_HOUSE_UNITS.div(census.TOT_HOUSE_UNITS, axis='index')*100\n",
    "\n",
    "# Perncentage of vacant housing units by total housing units in a census tract\n",
    "census['PCT_VAC_HOUSE'] = census.VAC_HOUSE_UNITS.div(census.TOT_HOUSE_UNITS, axis='index')*100\n",
    "\n",
    "# Families as a percentage of total population in a census tract\n",
    "census['PCT_FAM'] = census.TOT_FAM.div(census.TOT_POP, axis='index')*100\n",
    "\n",
    "# Married couples as a percentage of total population in a census tract\n",
    "census['PCT_FAM_MARRIED'] = census.TOT_FAM_MARRIED.div(census.TOT_POP, axis='index')*100\n",
    "\n",
    "# Female only households as a percentage of total population in a census tract\n",
    "census['PCT_FAM_F_ONLY'] = census.TOT_FAM_F_ONLY.div(census.TOT_POP, axis='index')*100"
   ]
  },
  {
   "cell_type": "code",
   "execution_count": 27,
   "metadata": {
    "collapsed": false
   },
   "outputs": [],
   "source": [
    "# Drop the unnecessary column from census dataframe\n",
    "census.drop(census[['Median income (dollars); Estimate; One race-- - American Indian and Alaska Native',\n",
    "                   'Median income (dollars); Estimate; One race-- - Native Hawaiian and Other Pacific Islander',\n",
    "                   'Median income (dollars); Estimate; One race-- - Some other race',\n",
    "                   'Median income (dollars); Estimate; Two or more races']], axis=1, inplace=True)"
   ]
  },
  {
   "cell_type": "code",
   "execution_count": 28,
   "metadata": {
    "collapsed": false
   },
   "outputs": [],
   "source": [
    "# Write the census dataframe to CSV file\n",
    "census.to_csv('FL_census.csv')"
   ]
  }
 ],
 "metadata": {
  "anaconda-cloud": {},
  "kernelspec": {
   "display_name": "Python [default]",
   "language": "python",
   "name": "python3"
  },
  "language_info": {
   "codemirror_mode": {
    "name": "ipython",
    "version": 3
   },
   "file_extension": ".py",
   "mimetype": "text/x-python",
   "name": "python",
   "nbconvert_exporter": "python",
   "pygments_lexer": "ipython3",
   "version": "3.5.2"
  }
 },
 "nbformat": 4,
 "nbformat_minor": 1
}
